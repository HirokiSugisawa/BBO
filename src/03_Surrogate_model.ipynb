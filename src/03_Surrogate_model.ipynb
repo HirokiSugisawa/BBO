{
 "cells": [
  {
   "cell_type": "markdown",
   "id": "74bbc2da-c7e9-4700-9aad-e2a553f91107",
   "metadata": {},
   "source": [
    "# Surrogate model construction \n",
    "$f_{all}(x) = f_{c}(x) + f_{p}(x,p)$"
   ]
  },
  {
   "cell_type": "markdown",
   "id": "ad29e2b8-7908-4180-8b56-52a3e219d31a",
   "metadata": {},
   "source": [
    "## 1. Library Reading"
   ]
  },
  {
   "cell_type": "code",
   "execution_count": 1,
   "id": "dde23547-7338-4a95-be28-0ecbb5f193cd",
   "metadata": {},
   "outputs": [],
   "source": [
    "import pandas as pd\n",
    "import numpy as np\n",
    "np.random.seed(seed=1994)\n",
    "from scipy.stats import norm\n",
    "\n",
    "import matplotlib.pyplot as plt\n",
    "from sklearn.gaussian_process import GaussianProcessRegressor\n",
    "from sklearn.gaussian_process.kernels import RBF, Matern, WhiteKernel, ConstantKernel as C, DotProduct\n",
    "import warnings\n",
    "warnings.simplefilter('ignore')"
   ]
  },
  {
   "cell_type": "markdown",
   "id": "9eaf6ab2-2b69-44e0-8d9b-9313d15ea708",
   "metadata": {},
   "source": [
    "## 2. Parameter setting"
   ]
  },
  {
   "cell_type": "code",
   "execution_count": 2,
   "id": "86fe9a5b-a806-4687-a03e-c43bc886d024",
   "metadata": {},
   "outputs": [],
   "source": [
    "# Unit definition\n",
    "title_data = 'Ru3(CO)12 [RuCl2(CO)3]2 HRh(CO)(PPh3)3 Rh(acac)(CO)2 RhCl(CO)(PPh3)2 [bmim][Cl] [bmim][BF4]'.strip().split()\n",
    "title_out = 'EXP-No. EXP-ID Ru3(CO)12 [RuCl2(CO)3]2 HRh(CO)(PPh3)3 Rh(acac)(CO)2 RhCl(CO)(PPh3)2 [bmim][Cl] [bmim][BF4]'.strip().split()\n",
    "unit_gmol = np.array([639.33, 512.01, 918.80, 258.03, 690.94, 174.67, 226.03]) # g/mol\n",
    "unit2mmol = np.array([0.09/3, 0.09/2,   0.09,   0.09,   0.09,    3.0/1.08,   3.0/1.21]) *0.01  # 0.09 mmol/metal, 0.01 is correction for % unit\n",
    "unit2mg   = unit2mmol*unit_gmol # mg/metal\n",
    "\n",
    "# Number of experimental data per round\n",
    "n_total = 24\n",
    "n_reference = 0\n",
    "n_round = n_total - n_reference\n",
    "\n",
    "# Reading Grid-data\n",
    "grids = np.loadtxt('first_10.dat')\n",
    "\n",
    "# Setting GPR parameter\n",
    "alpha = 0 # because white kernel is used\n",
    "aq_type = \"EI\" #\n",
    "bbo_type = \"kriging\""
   ]
  },
  {
   "cell_type": "markdown",
   "id": "6ea7eac5-2bb4-46c5-9736-843371077239",
   "metadata": {},
   "source": [
    "## 3. Experimental data Reading"
   ]
  },
  {
   "cell_type": "code",
   "execution_count": 3,
   "id": "1d8a9412-4c44-4d0b-a940-ccca2bc70c53",
   "metadata": {
    "tags": []
   },
   "outputs": [
    {
     "name": "stdout",
     "output_type": "stream",
     "text": [
      "Ndata: 168 , Ndim: 9\n"
     ]
    }
   ],
   "source": [
    "experimental_id = ['Round-001', 'Round-002', 'Round-003', 'Round-004', 'Round-005', 'Round-006', 'Round-007']\n",
    "date = 'Round7'\n",
    "df_all = pd.read_csv(\"Results-DB_%s.csv\"%(date), encoding=\"shift-jis\")\n",
    "df_all = df_all[df_all['PJ-ID'].isin(experimental_id)]\n",
    "\n",
    "y_label = ['Ald_Yield']\n",
    "x_label = [\n",
    "    'Cat1.actual, mg', 'Cat2.actual, mg', 'Cat3.actual, mg',       \n",
    "    'Cat4.actual, mg', 'Cat5.actual, mg', 'Ion1.actual, μL',\n",
    "    'Ion2.actual, μL', 'CO2, MPa', 'H2, MPa'\n",
    "]\n",
    "x_data_all = df_all[x_label].to_numpy()\n",
    "y_data_all = df_all[y_label].to_numpy()\n",
    "a_data_all = df_all['EXP-ID']\n",
    "ndata, ndim = x_data_all.shape if len(experimental_id)*24 == x_data_all.shape[0] else print('ERROR: amount of dataset')\n",
    "\n",
    "x_data_all[:,:-2] = x_data_all[:,:-2]/unit2mg\n",
    "x_data_all[:,:-2] = x_data_all[:,:-2]*100/np.sum(x_data_all[:,:-2],axis=1).reshape((ndata,1))\n",
    "x_data_all[:,-2:] = x_data_all[:,-2:]*10.0\n",
    "\n",
    "print(\"Ndata:\", ndata,\", Ndim:\", ndim)"
   ]
  },
  {
   "cell_type": "markdown",
   "id": "9f9281f7-a5d0-466f-ab77-1ff3984d0dee",
   "metadata": {},
   "source": [
    "## 4. Surrogate model Construction for composition data"
   ]
  },
  {
   "cell_type": "code",
   "execution_count": 4,
   "id": "89c7ef04-5415-4620-abfc-f52a40faf65a",
   "metadata": {
    "tags": []
   },
   "outputs": [],
   "source": [
    "composition_id = ['Round-001', 'Round-002', 'Round-003', 'Round-004', 'Round-005', 'Round-006']\n",
    "df_1 = df_all[df_all['PJ-ID'].isin(composition_id)]\n",
    "alpha = 0\n",
    "\n",
    "x_label_1 = [\n",
    "    'Cat1.actual, mg', 'Cat2.actual, mg', 'Cat3.actual, mg',\n",
    "    'Cat4.actual, mg', 'Cat5.actual, mg', 'Ion1.actual, μL',\n",
    "    'Ion2.actual, μL'\n",
    "]\n",
    "x_data_1 = df_1[x_label_1].to_numpy()\n",
    "ndata_1, ndim_1 = x_data_1.shape\n",
    "\n",
    "x_data_1 = x_data_1/unit2mg\n",
    "x_data_1 = x_data_1*100/np.sum(x_data_1,axis=1).reshape((ndata_1,1))\n",
    "\n",
    "y_data_1 = df_1[y_label].to_numpy()\n",
    "\n",
    "kernel_1 = 1.0 * Matern(length_scale=1.0, length_scale_bounds=(1e-5, 1e5), nu=2.5)+ WhiteKernel(noise_level=1.0) +C()*DotProduct()\n",
    "gp_1 = GaussianProcessRegressor(kernel=kernel_1, alpha=alpha, \n",
    "        optimizer='fmin_l_bfgs_b', n_restarts_optimizer=20, \n",
    "        normalize_y=False, copy_X_train=True, random_state=1994)\n",
    "gp_1.fit(x_data_1, y_data_1)\n",
    "y_pred_1, y_std_1 = gp_1.predict(x_data_1, return_std=True)"
   ]
  },
  {
   "cell_type": "markdown",
   "id": "001c1763-bd0c-4576-9428-b1657f663bc2",
   "metadata": {},
   "source": [
    "## 5. Surrogate model Construction for Process & composition data"
   ]
  },
  {
   "cell_type": "code",
   "execution_count": 5,
   "id": "03c27c77-8051-44cb-a8c7-7262b23af4cf",
   "metadata": {
    "tags": []
   },
   "outputs": [
    {
     "name": "stdout",
     "output_type": "stream",
     "text": [
      "Kernel:  3.42**2 * Matern(length_scale=90.2, nu=2.5) + WhiteKernel(noise_level=0.407) + 0.00316**2 * DotProduct(sigma_0=9.69e-05)\n"
     ]
    },
    {
     "data": {
      "image/png": "[encoded data removed]",
      "text/plain": [
       "<Figure size 640x480 with 1 Axes>"
      ]
     },
     "metadata": {},
     "output_type": "display_data"
    }
   ],
   "source": [
    "y_pred_1 = gp_1.predict(x_data_all[:,:-2]).flatten()\n",
    "y_data_2 = y_data_all.flatten() - y_pred_1\n",
    "\n",
    "kernel_2 = C()* Matern(length_scale=1.0, length_scale_bounds=(1e-5, 1e5), nu=2.5)+ WhiteKernel(noise_level=1.0) +C()*DotProduct()\n",
    "gp_2 = GaussianProcessRegressor(kernel=kernel_2, alpha=alpha, \n",
    "        optimizer='fmin_l_bfgs_b', n_restarts_optimizer=20, \n",
    "        normalize_y=False, copy_X_train=True, random_state=1994)\n",
    "gp_2.fit(x_data_all, y_data_2)\n",
    "y_pred_2, y_std_2 = gp_2.predict(x_data_all, return_std=True)\n",
    "\n",
    "plt.scatter( y_data_all.flatten(), y_pred_1+y_pred_2)\n",
    "print('Kernel: ', gp_2.kernel_)"
   ]
  }
 ],
 "metadata": {
  "kernelspec": {
   "display_name": "Python 3 (ipykernel)",
   "language": "python",
   "name": "python3"
  },
  "language_info": {
   "codemirror_mode": {
    "name": "ipython",
    "version": 3
   },
   "file_extension": ".py",
   "mimetype": "text/x-python",
   "name": "python",
   "nbconvert_exporter": "python",
   "pygments_lexer": "ipython3",
   "version": "3.13.0"
  }
 },
 "nbformat": 4,
 "nbformat_minor": 5
}
