{
 "cells": [
  {
   "cell_type": "markdown",
   "id": "62ae2fad-f93d-48f2-a6f1-9ec398a2e7ca",
   "metadata": {},
   "source": [
    "# Batch Bayesian Optimization for Composition"
   ]
  },
  {
   "cell_type": "markdown",
   "id": "d78bdf9d-78c1-4b94-b618-d88b7cb3b436",
   "metadata": {},
   "source": [
    "## 1. Library Reading"
   ]
  },
  {
   "cell_type": "code",
   "execution_count": 1,
   "id": "b442ed15-0dc6-40db-9c87-ec9534c20fb3",
   "metadata": {},
   "outputs": [],
   "source": [
    "import pandas as pd\n",
    "import numpy as np\n",
    "from scipy.stats import norm\n",
    "\n",
    "import matplotlib.pyplot as plt\n",
    "from sklearn.gaussian_process import GaussianProcessRegressor\n",
    "from sklearn.gaussian_process.kernels import RBF, Matern, WhiteKernel, ConstantKernel as C, DotProduct\n",
    "import warnings\n",
    "warnings.simplefilter('ignore')"
   ]
  },
  {
   "cell_type": "markdown",
   "id": "2cc99ae9-05f0-4903-a0e9-88ae34c0d3cf",
   "metadata": {},
   "source": [
    "## 2. Parameter setting"
   ]
  },
  {
   "cell_type": "code",
   "execution_count": 2,
   "id": "494627fa-83f1-4033-922f-909c76bb6e3f",
   "metadata": {},
   "outputs": [],
   "source": [
    "# Unit definition\n",
    "title_data = 'Ru3(CO)12 [RuCl2(CO)3]2 HRh(CO)(PPh3)3 Rh(acac)(CO)2 RhCl(CO)(PPh3)2 [bmim][Cl] [bmim][BF4]'.strip().split()\n",
    "title_out = 'EXP-No. EXP-ID Ru3(CO)12 [RuCl2(CO)3]2 HRh(CO)(PPh3)3 Rh(acac)(CO)2 RhCl(CO)(PPh3)2 [bmim][Cl] [bmim][BF4]'.strip().split()\n",
    "unit_gmol = np.array([639.33, 512.01, 918.80, 258.03, 690.94, 174.67, 226.03]) # g/mol\n",
    "unit2mmol = np.array([0.09/3, 0.09/2,   0.09,   0.09,   0.09,    3.0/1.08,   3.0/1.21]) *0.01  # 0.09 mmol/metal, 0.01 is correction for % unit\n",
    "unit2mg   = unit2mmol*unit_gmol # mg/metal\n",
    "\n",
    "# Number of experimental data per round\n",
    "n_total = 24\n",
    "n_reference = 2\n",
    "n_round = n_total - n_reference\n",
    "nbatch = int(n_round/2) # separating the n_round to Exploration and exploitation\n",
    "\n",
    "# Reading Grid-data\n",
    "grids = np.loadtxt('first_10.dat')\n",
    "\n",
    "# Setting GPR parameter\n",
    "alpha = 0 # because white kernel is used\n",
    "aq_type = \"EI\" #\n",
    "bbo_type = \"kriging\"\n",
    "coeficient = 100 # controlling the degree of exploration"
   ]
  },
  {
   "cell_type": "markdown",
   "id": "d7ebf033-d36b-4bda-97a0-dec5fa9eda74",
   "metadata": {},
   "source": [
    "## 3. Experimental data Reading"
   ]
  },
  {
   "cell_type": "code",
   "execution_count": 3,
   "id": "61e483b3-5d62-4316-8a2f-8e98ae5357d3",
   "metadata": {},
   "outputs": [
    {
     "name": "stdout",
     "output_type": "stream",
     "text": [
      "Ndata: 24 , Ndim: 9\n"
     ]
    }
   ],
   "source": [
    "experimental_id = ['Round-001']\n",
    "date = 'Round1'\n",
    "df_all = pd.read_csv(\"Results-DB_%s.csv\"%(date), encoding=\"shift-jis\")\n",
    "df_all = df_all[df_all['PJ-ID'].isin(experimental_id)]\n",
    "\n",
    "y_label = ['Ald_Yield']\n",
    "x_label = [\n",
    "    'Cat1.actual, mg', 'Cat2.actual, mg', 'Cat3.actual, mg',       \n",
    "    'Cat4.actual, mg', 'Cat5.actual, mg', 'Ion1.actual, μL',\n",
    "    'Ion2.actual, μL', 'CO2, MPa', 'H2, MPa'\n",
    "]\n",
    "x_data_all = df_all[x_label].to_numpy()\n",
    "y_data_all = df_all[y_label].to_numpy()\n",
    "a_data_all = df_all['EXP-ID']\n",
    "ndata, ndim = x_data_all.shape if len(experimental_id)*24 == x_data_all.shape[0] else print('ERROR: amount of dataset')\n",
    "\n",
    "# Transform the unit from mg to %\n",
    "x_data_all[:,:-2] = x_data_all[:,:-2]/unit2mg\n",
    "x_data_all[:,:-2] = x_data_all[:,:-2]*100/np.sum(x_data_all[:,:-2],axis=1).reshape((ndata,1))\n",
    "x_data_all[:,-2:] = x_data_all[:,-2:]*10.0\n",
    "\n",
    "y_data = y_data_all\n",
    "x_data = x_data_all[:,:-2]\n",
    "a_data = a_data_all\n",
    "\n",
    "print(\"Ndata:\", ndata,\", Ndim:\", ndim)"
   ]
  },
  {
   "cell_type": "markdown",
   "id": "49b2febb-12bb-4f47-8d5c-c1a88acbea04",
   "metadata": {},
   "source": [
    "## 4. Function setting"
   ]
  },
  {
   "cell_type": "code",
   "execution_count": 4,
   "id": "6b21b6a2-d1f0-4a40-a7be-d518e1ecb4c5",
   "metadata": {},
   "outputs": [],
   "source": [
    "## SEARCH BETTER ARGMENTs TO AVOID SAMPLING SAME CONDITIONS ##\n",
    "def search_argment(a_old, aqu):\n",
    "    a_now = np.argmax( aqu )\n",
    "    if a_now in a_old:\n",
    "        for iarg in range( 2, len(a_old)+3 ):\n",
    "            a_better = aqu.argsort()[-iarg]\n",
    "            if a_better in a_old:\n",
    "                pass\n",
    "            else:\n",
    "                return a_better\n",
    "                break\n",
    "    else:\n",
    "        return a_now\n",
    "\n",
    "## AQUISITION FUNCTIONs ##\n",
    "class aquisition:\n",
    "    def __init__(self, gpr=None, grid=None, y_data=None, **kwargs):\n",
    "        self.kappa = kwargs.get('kappa', 1.0)\n",
    "        self.epsil = kwargs.get('epsilone', 0.01)\n",
    "        self.aq_type  = kwargs.get('aq_type', 'UCB')\n",
    "        self.return_y = kwargs.get('return_y', False)\n",
    "        self.y_max = np.max(y_data)\n",
    "        self.grid = grid\n",
    "        self.gpr  = gpr\n",
    "\n",
    "    def function(self):\n",
    "        self.y_pred, self.sigma = self.gpr.predict(self.grid, return_std=True, return_cov=False)\n",
    "        self.y_pred = self.y_pred.flatten()\n",
    "        self.sigma  = self.sigma.flatten()\n",
    "        \n",
    "        if self.aq_type == 'UCB':\n",
    "            aqfunc = self.y_pred + self.kappa*self.sigma\n",
    "        elif self.aq_type == 'EI':\n",
    "            Z1 = self.y_pred - self.y_max - self.epsil\n",
    "            Z2 = Z1/self.sigma\n",
    "            aqfunc = Z1*norm.cdf(Z2) + self.sigma*norm.pdf(Z2)\n",
    "        elif self.aq_type == 'PI':\n",
    "            pass\n",
    "        elif self.aq_type == 'thompson':\n",
    "            pass\n",
    "        if self.return_y:\n",
    "            return aqfunc, self.y_pred\n",
    "        else:\n",
    "            return aqfunc\n",
    "\n",
    "\n",
    "## GENERATE BATCH ##\n",
    "class gen_batch:\n",
    "    def __init__(self, nbatch, x_data, y_data, a_data, gpr, grid, **kwargs):\n",
    "        self.nbatch = nbatch\n",
    "        self.x_data = np.copy(x_data)\n",
    "        self.y_data = np.copy(y_data)\n",
    "        self.a_data = np.copy(a_data)\n",
    "        ibatch = kwargs.get('ibatch', 0)\n",
    "\n",
    "        self.gpr = gpr\n",
    "        self.grid = grid\n",
    "        __, self.ndim = self.grid.shape\n",
    "\n",
    "        self.method = kwargs.get('method')\n",
    "        self.kwargs = kwargs\n",
    "\n",
    "    def algorithm(self):\n",
    "        x_out = np.zeros((self.nbatch, self.ndim))\n",
    "        y_out = np.zeros(self.nbatch)\n",
    "        a_out = np.zeros(self.nbatch)\n",
    "        if self.method == 'kriging':\n",
    "            for i in range(self.nbatch):\n",
    "                # Decide the next condision\n",
    "                # Avoid sampling the same condision\n",
    "                aqs, y_pred = aquisition(gpr=self.gpr, grid=self.grid, y_data=self.y_data, \n",
    "                                        return_y=True, **self.kwargs).function()\n",
    "                a_next = search_argment(self.a_data, aqs)\n",
    "                x_next = self.grid[a_next]\n",
    "                y_next = y_pred[a_next]\n",
    "                # Append new conditions\n",
    "                self.x_data = np.append(self.x_data, np.array([x_next]), axis=0)\n",
    "                self.y_data = np.append(self.y_data, y_next)\n",
    "                self.a_data = np.append(self.a_data, a_next)\n",
    "                # Append new to outarray\n",
    "                y_out[i] = y_next\n",
    "                x_out[i] = x_next\n",
    "                a_out[i] = a_next\n",
    "                self.gpr.fit(self.x_data, self.y_data)\n",
    "        elif self.method == 'thompson':\n",
    "            pass\n",
    "        elif self.method == 'egreedy':\n",
    "            pass\n",
    "        else:\n",
    "            print('ERROR: method type %s is not exist'%(method))\n",
    "            exit()\n",
    "        return x_out, a_out, y_out"
   ]
  },
  {
   "cell_type": "markdown",
   "id": "6ab43789-7736-456c-9af9-53622225dd71",
   "metadata": {},
   "source": [
    "## 5. Evaluate D-optimality"
   ]
  },
  {
   "cell_type": "code",
   "execution_count": 5,
   "id": "69c50290-7e07-4f50-b32d-128142d884ec",
   "metadata": {},
   "outputs": [
    {
     "name": "stdout",
     "output_type": "stream",
     "text": [
      "0.01 1.6854067354630187e+30\n",
      "0.02 3.0436174757173644e+30\n",
      "0.04 4.350345124721496e+30\n",
      "0.08 6.310265802062469e+30\n",
      "0.1 7.640931454562313e+30\n",
      "0.2 6.302142519355238e+30\n",
      "0.4 2.4448750842898402e+30\n",
      "0.8 2.4165842347018256e+30\n",
      "1.0 2.2332266324140926e+30\n",
      "2.0 2.178126453615544e+30\n"
     ]
    },
    {
     "data": {
      "image/png": "[encoded data removed]",
      "text/plain": [
       "<Figure size 640x480 with 1 Axes>"
      ]
     },
     "metadata": {},
     "output_type": "display_data"
    }
   ],
   "source": [
    "d_values = []\n",
    "d_best = 0.0\n",
    "for param in [0.01, 0.02, 0.04, 0.08, 0.1, 0.2, 0.4, 0.8, 1.0, 2.0]:\n",
    "    x_opt = x_data\n",
    "    y_opt = y_data\n",
    "    a_opt = a_data\n",
    "    np.random.seed(seed=1994)\n",
    "\n",
    "    # Setting GPR\n",
    "    kernel = C() * Matern(length_scale=1.0, length_scale_bounds=(1e-5, 1e5), nu=2.5)+ WhiteKernel(noise_level=1.0) +C()*DotProduct()\n",
    "    gp = GaussianProcessRegressor(kernel=kernel, alpha=alpha, optimizer='fmin_l_bfgs_b', n_restarts_optimizer=20, normalize_y=False, copy_X_train=True, random_state=1994)\n",
    "    gp.fit(x_opt, y_opt)\n",
    "\n",
    "    # Generating exploitation points\n",
    "    iopt=1\n",
    "    data = {'aq_type':aq_type, 'epsilone':param, 'method':bbo_type}\n",
    "    gb = gen_batch(nbatch=nbatch, x_data=x_opt, y_data=y_opt, a_data=a_opt, gpr=gp, grid=grids, ibatch=iopt, **data)\n",
    "    x_next, a_next, y_next = gb.algorithm()\n",
    "    # Append new conditions\n",
    "    x_opt = np.append(x_opt, x_next, axis=0)\n",
    "    y_opt = np.append(y_opt, y_next)\n",
    "    a_opt = np.append(a_opt, a_next)\n",
    "    \n",
    "    # Generating exploration points\n",
    "    iopt=2\n",
    "    data = {'aq_type':aq_type, 'epsilone':param*coeficient, 'method':bbo_type}\n",
    "    gb = gen_batch(nbatch=nbatch, x_data=x_opt, y_data=y_opt, a_data=a_opt, gpr=gp, grid=grids, ibatch=iopt, **data)\n",
    "    x_next, a_next, y_next = gb.algorithm()\n",
    "    # Append new conditions\n",
    "    x_opt = np.append(x_opt, x_next, axis=0)\n",
    "    y_opt = np.append(y_opt, y_next)\n",
    "    a_opt = np.append(a_opt, a_next)\n",
    "    \n",
    "    # Evaluating the D-optimality\n",
    "    xt_x = np.dot(x_opt.T, x_opt)\n",
    "    d_value = np.linalg.det(xt_x)\n",
    "    d_values.append( [param, d_value] )\n",
    "    if d_best < d_value:\n",
    "        d_best = d_value\n",
    "        best_param = param\n",
    "    print( param, d_value )\n",
    "\n",
    "d_values = np.array( d_values )\n",
    "plt.scatter( np.log10(d_values[:,0]), d_values[:,1], c='black' )\n",
    "plt.xlabel('log_10(Epsilone)')\n",
    "plt.ylabel('D-optimarity')\n",
    "plt.savefig('BO_suggest_%s_mg.png'%(date), format=\"png\")"
   ]
  },
  {
   "cell_type": "code",
   "execution_count": 6,
   "id": "bcbd0f9d-9a78-4b43-83ca-9668c8f31b31",
   "metadata": {},
   "outputs": [],
   "source": [
    "x_opt = x_data\n",
    "y_opt = y_data\n",
    "a_opt = a_data\n",
    "np.random.seed(seed=1994)\n",
    "\n",
    "kernel = C() * Matern(length_scale=1.0, length_scale_bounds=(1e-5, 1e5), nu=2.5) + WhiteKernel(noise_level=1.0) +C()*DotProduct()\n",
    "gp = GaussianProcessRegressor(kernel=kernel, alpha=alpha, \n",
    "        optimizer='fmin_l_bfgs_b', n_restarts_optimizer=20, \n",
    "        normalize_y=False, copy_X_train=True, random_state=1994)\n",
    "gp.fit(x_opt, y_opt)\n",
    "\n",
    "iopt=1\n",
    "data = {'aq_type':aq_type, 'epsilone':best_param, 'method':bbo_type}\n",
    "gb = gen_batch(nbatch=nbatch, x_data=x_opt, y_data=y_opt, a_data=a_opt, gpr=gp, grid=grids, ibatch=iopt, **data)\n",
    "x_next, a_next, y_next = gb.algorithm()\n",
    "x_opt = np.append(x_opt, x_next, axis=0)\n",
    "y_opt = np.append(y_opt, y_next)\n",
    "a_opt = np.append(a_opt, a_next)\n",
    "\n",
    "iopt=2\n",
    "data = {'aq_type':aq_type, 'epsilone':best_param*coeficient, 'method':bbo_type}\n",
    "gb = gen_batch(nbatch=nbatch, x_data=x_opt, y_data=y_opt, a_data=a_opt, gpr=gp, grid=grids, ibatch=iopt, **data)\n",
    "x_next, a_next, y_next = gb.algorithm()\n",
    "x_opt = np.append(x_opt, x_next, axis=0)\n",
    "y_opt = np.append(y_opt, y_next)\n",
    "a_opt = np.append(a_opt, a_next)"
   ]
  },
  {
   "cell_type": "markdown",
   "id": "9a931fbf-2e23-421d-9574-e64705e442ff",
   "metadata": {},
   "source": [
    "## 6. Output suggestions"
   ]
  },
  {
   "cell_type": "code",
   "execution_count": 7,
   "id": "ea29d32a-0d45-4039-aa95-09d6ab16e05b",
   "metadata": {},
   "outputs": [],
   "source": [
    "df = pd.DataFrame(x_opt, columns=title_data)\n",
    "df['EXP-ID'] = a_opt.astype('int')\n",
    "df[y_label[0]+'_pred'] = y_opt\n",
    "df[ndata:].to_csv('BO_suggest_%s.csv'%(date))\n",
    "\n",
    "df = pd.DataFrame(x_opt*unit2mg, columns=title_data)\n",
    "df['EXP-ID'] = a_opt.astype('int')\n",
    "df[y_label[0]+'_pred'] = y_opt\n",
    "df[ndata:].to_csv('BO_suggest_%s_mg.csv'%(date))"
   ]
  },
  {
   "cell_type": "code",
   "execution_count": null,
   "id": "5658b9ae-8ced-4332-9c3a-9f8cf92bea26",
   "metadata": {},
   "outputs": [],
   "source": []
  }
 ],
 "metadata": {
  "kernelspec": {
   "display_name": "Python 3 (ipykernel)",
   "language": "python",
   "name": "python3"
  },
  "language_info": {
   "codemirror_mode": {
    "name": "ipython",
    "version": 3
   },
   "file_extension": ".py",
   "mimetype": "text/x-python",
   "name": "python",
   "nbconvert_exporter": "python",
   "pygments_lexer": "ipython3",
   "version": "3.13.0"
  }
 },
 "nbformat": 4,
 "nbformat_minor": 5
}
