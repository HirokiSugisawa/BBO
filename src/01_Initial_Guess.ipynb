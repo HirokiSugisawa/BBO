{
 "cells": [
  {
   "cell_type": "markdown",
   "id": "7c9adace-f895-45fa-b1fe-d59d5edd71a8",
   "metadata": {},
   "source": [
    "# Initial Guess Generation"
   ]
  },
  {
   "cell_type": "markdown",
   "id": "ebd66316-7978-40b1-a892-e248e1aa4784",
   "metadata": {},
   "source": [
    "## 1. Library Reading"
   ]
  },
  {
   "cell_type": "code",
   "execution_count": 1,
   "id": "cba5eb58-5cbb-4f58-aaac-5c1be0d9b2f5",
   "metadata": {},
   "outputs": [],
   "source": [
    "import numpy as np\n",
    "import pandas as pd\n",
    "np.random.seed(111)"
   ]
  },
  {
   "cell_type": "markdown",
   "id": "c3ea3846-21f9-4986-b9e9-c592791c9307",
   "metadata": {},
   "source": [
    "## 2. Grid-data Reading"
   ]
  },
  {
   "cell_type": "code",
   "execution_count": 2,
   "id": "d7438c38-9e1a-4c9f-9b30-af23c899dd8e",
   "metadata": {},
   "outputs": [
    {
     "name": "stdout",
     "output_type": "stream",
     "text": [
      "Ngrid: 6996 , Ndim: 7\n"
     ]
    }
   ],
   "source": [
    "# Column: Ru3(CO)12 [RuCl2(CO)3]2 HRh(CO)(PPh3)3 Rh(acac)(CO)2 RhCl(CO)(PPh3)2 [bmim][Cl] [bmim][BF4]\n",
    "# Total: 100% (Ionic Liquid is included over 10%)\n",
    "grids = np.loadtxt('first_10.dat')\n",
    "grids_indexes = [i for i in range(grids.shape[0])]\n",
    "nsample, ndim = grids.shape\n",
    "print(\"Ngrid:\", nsample,\", Ndim:\", ndim)"
   ]
  },
  {
   "cell_type": "markdown",
   "id": "a4568032-1cce-472b-a95c-e222537a71bd",
   "metadata": {},
   "source": [
    "## 3. D-optimality evaluation"
   ]
  },
  {
   "cell_type": "code",
   "execution_count": 3,
   "id": "2697d7ff-80cf-4aa5-a588-114cd97db9b0",
   "metadata": {},
   "outputs": [],
   "source": [
    "# Number of initial condition\n",
    "ninit = 24\n",
    "# Number of random search\n",
    "number_of_random_searches   = 10000\n",
    "\n",
    "# Evaluate the D-optimality\n",
    "for random_search_number in range(number_of_random_searches):\n",
    "    new_grids_indexes = np.random.choice(grids_indexes, ninit, replace=False)\n",
    "    new_grids = grids[new_grids_indexes, :]\n",
    "\n",
    "    xt_x = np.dot(new_grids.T, new_grids)\n",
    "    d_optimal_value = np.linalg.det(xt_x) \n",
    "    \n",
    "    if random_search_number == 0:\n",
    "        best_d_optimal_value = d_optimal_value.copy()\n",
    "        selected_experiment_indexes = new_grids_indexes.copy()\n",
    "    else:\n",
    "        if best_d_optimal_value < d_optimal_value:\n",
    "            best_d_optimal_value = d_optimal_value.copy()\n",
    "            selected_experiment_indexes = new_grids_indexes.copy()\n",
    "selected_experiments = grids[selected_experiment_indexes, :]"
   ]
  },
  {
   "cell_type": "markdown",
   "id": "1a9914fd-cef6-4cb7-905e-b50cb6a44f71",
   "metadata": {},
   "source": [
    "# 4. Initial Condition"
   ]
  },
  {
   "cell_type": "code",
   "execution_count": 4,
   "id": "8458a33a-3df2-4c4d-b6a0-56a2d056c7f0",
   "metadata": {},
   "outputs": [],
   "source": [
    "title_data = 'Ru3(CO)12 [RuCl2(CO)3]2 HRh(CO)(PPh3)3 Rh(acac)(CO)2 RhCl(CO)(PPh3)2 [bmim][Cl] [bmim][BF4]'.strip().split()\n",
    "ttype = 'float64 float64 float64 float64 float64 float64 float64'.strip().split()\n",
    "\n",
    "exp_data = pd.DataFrame(selected_experiments).set_axis( title_data, axis=1 )\n",
    "exp_data['EXP-ID'] = selected_experiment_indexes\n",
    "exp_data.to_csv('initial_conditions.csv')"
   ]
  }
 ],
 "metadata": {
  "kernelspec": {
   "display_name": "Python 3 (ipykernel)",
   "language": "python",
   "name": "python3"
  },
  "language_info": {
   "codemirror_mode": {
    "name": "ipython",
    "version": 3
   },
   "file_extension": ".py",
   "mimetype": "text/x-python",
   "name": "python",
   "nbconvert_exporter": "python",
   "pygments_lexer": "ipython3",
   "version": "3.13.0"
  }
 },
 "nbformat": 4,
 "nbformat_minor": 5
}
